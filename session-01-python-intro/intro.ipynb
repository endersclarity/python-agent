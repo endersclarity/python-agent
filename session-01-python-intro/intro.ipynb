{
 "cells": [
  {
   "cell_type": "markdown",
   "metadata": {},
   "source": [
    "# Python for Gen AI - Session 01\n",
    "\n",
    "Basic print statements and f-strings"
   ]
  },
  {
   "cell_type": "code",
   "execution_count": 1,
   "metadata": {
    "execution": {
     "iopub.execute_input": "2025-10-25T22:36:35.359497Z",
     "iopub.status.busy": "2025-10-25T22:36:35.359497Z",
     "iopub.status.idle": "2025-10-25T22:36:35.363791Z",
     "shell.execute_reply": "2025-10-25T22:36:35.363791Z"
    }
   },
   "outputs": [
    {
     "name": "stdout",
     "output_type": "stream",
     "text": [
      "Hello AI World\n"
     ]
    }
   ],
   "source": [
    "print(\"Hello AI World\")"
   ]
  },
  {
   "cell_type": "code",
   "execution_count": 2,
   "metadata": {
    "execution": {
     "iopub.execute_input": "2025-10-25T22:36:35.401568Z",
     "iopub.status.busy": "2025-10-25T22:36:35.400323Z",
     "iopub.status.idle": "2025-10-25T22:36:35.405306Z",
     "shell.execute_reply": "2025-10-25T22:36:35.405306Z"
    }
   },
   "outputs": [
    {
     "name": "stdout",
     "output_type": "stream",
     "text": [
      "Alice scored 95 in the test.\n"
     ]
    }
   ],
   "source": [
    "name = \"Alice\"\n",
    "score = 95\n",
    "print(f\"{name} scored {score} in the test.\")"
   ]
  },
  {
   "cell_type": "code",
   "execution_count": 3,
   "metadata": {
    "execution": {
     "iopub.execute_input": "2025-10-25T22:36:35.408390Z",
     "iopub.status.busy": "2025-10-25T22:36:35.407847Z",
     "iopub.status.idle": "2025-10-25T22:36:35.411928Z",
     "shell.execute_reply": "2025-10-25T22:36:35.411418Z"
    }
   },
   "outputs": [
    {
     "name": "stdout",
     "output_type": "stream",
     "text": [
      "Name: Alice , score: 95\n"
     ]
    }
   ],
   "source": [
    "print(\"Name:\", name, \", score:\", score)"
   ]
  }
 ],
 "metadata": {
  "kernelspec": {
   "display_name": "Python 3",
   "language": "python",
   "name": "python3"
  },
  "language_info": {
   "codemirror_mode": {
    "name": "ipython",
    "version": 3
   },
   "file_extension": ".py",
   "mimetype": "text/x-python",
   "name": "python",
   "nbconvert_exporter": "python",
   "pygments_lexer": "ipython3",
   "version": "3.12.10"
  }
 },
 "nbformat": 4,
 "nbformat_minor": 4
}
